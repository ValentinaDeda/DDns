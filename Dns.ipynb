{
 "cells": [
  {
   "cell_type": "code",
   "execution_count": null,
   "metadata": {
    "collapsed": true
   },
   "outputs": [],
   "source": [
    "import logging\n",
    "import json"
   ]
  },
  {
   "cell_type": "code",
   "execution_count": null,
   "metadata": {
    "collapsed": true
   },
   "outputs": [],
   "source": [
    "class DnsClass:\n",
    "    def __init__(self, logger):\n",
    "        self.logger = logging.getLogger('logger_dns')\n",
    "        \n",
    "    def messageHandler(self, ip_address, port, message):\n",
    "        message_type, domain_string=message.split(\" \")\n",
    "        domain_json = json.loads(domain_string)\n",
    "        domain = domain_json['Domain']\n",
    "        if message_type == \"UpdateDomainIp\":\n",
    "            return updateMethod(domain, ip_address)\n",
    "        elif message_type == \"GetIpDomain\":\n",
    "            return getMethod(domain)\n",
    "        else:\n",
    "            logger.error('Richiesta sconosciuta')\n",
    "            return -1\n",
    "        \n",
    "    def isError(self,valore):\n",
    "        return valore == -1\n",
    "    \n",
    "    def updateMethod(domain, ip_address):\n",
    "        return updateInDb(domain, ip_address)\n",
    "        \n",
    "    def getMethod(domain)\n",
    "        return searchInDb(domain)"
   ]
  }
 ],
 "metadata": {
  "kernelspec": {
   "display_name": "Python 3",
   "language": "python",
   "name": "python3"
  },
  "language_info": {
   "codemirror_mode": {
    "name": "ipython",
    "version": 3
   },
   "file_extension": ".py",
   "mimetype": "text/x-python",
   "name": "python",
   "nbconvert_exporter": "python",
   "pygments_lexer": "ipython3",
   "version": "3.6.3"
  }
 },
 "nbformat": 4,
 "nbformat_minor": 2
}
